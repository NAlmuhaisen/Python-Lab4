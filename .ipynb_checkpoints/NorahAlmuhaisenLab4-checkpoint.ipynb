{
 "cells": [
  {
   "cell_type": "code",
   "execution_count": 1,
   "id": "0ca43e4e",
   "metadata": {},
   "outputs": [
    {
     "name": "stdout",
     "output_type": "stream",
     "text": [
      "Enter a number 5\n",
      "5 4 3 2 1 \n",
      "4 3 2 1 \n",
      "3 2 1 \n",
      "2 1 \n",
      "1 \n"
     ]
    }
   ],
   "source": [
    "x= int(input('Enter a number '))\n",
    "def func_1(y):\n",
    "    \n",
    "    while y != 0: \n",
    "        list1 =[]\n",
    "        for i in range(1, y + 1):  \n",
    "            list1.append(i) \n",
    "        \n",
    "        list1.reverse()\n",
    "    \n",
    "        values =\"\"\n",
    "        for v in list1:\n",
    "            values = values + str(v) +\" \"\n",
    "        print(values)\n",
    "        y-=1\n",
    "  \n",
    "\n",
    "\n",
    "func_1(x)\n",
    "\n"
   ]
  },
  {
   "cell_type": "code",
   "execution_count": null,
   "id": "91c97b68",
   "metadata": {},
   "outputs": [],
   "source": []
  }
 ],
 "metadata": {
  "kernelspec": {
   "display_name": "Python 3 (ipykernel)",
   "language": "python",
   "name": "python3"
  },
  "language_info": {
   "codemirror_mode": {
    "name": "ipython",
    "version": 3
   },
   "file_extension": ".py",
   "mimetype": "text/x-python",
   "name": "python",
   "nbconvert_exporter": "python",
   "pygments_lexer": "ipython3",
   "version": "3.10.9"
  }
 },
 "nbformat": 4,
 "nbformat_minor": 5
}
